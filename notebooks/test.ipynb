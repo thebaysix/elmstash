# Test imports
import pandas as pd
import matplotlib.pyplot as plt
import plotly.express as px
import numpy as np
import os
from dotenv import load_dotenv

# Load environment variables
load_dotenv()

# Test API clients (optional - only if you have keys)
try:
    import openai
    import anthropic
    
    # Initialize clients
    openai_client = openai.OpenAI(api_key=os.getenv('OPENAI_API_KEY'))
    anthropic_client = anthropic.Anthropic(api_key=os.getenv('ANTHROPIC_API_KEY'))
    print("API clients initialized successfully!")
except Exception as e:
    print(f"API setup needed: {e}")

# Test data manipulation and visualization
df = pd.DataFrame({'x': range(10), 'y': np.random.randn(10)})
print("Pandas working!")

# Test matplotlib
plt.figure(figsize=(8, 4))
plt.plot(df['x'], df['y'])
plt.title('Matplotlib Test')
plt.show()

# Test plotly
fig = px.line(df, x='x', y='y', title='Plotly Test')
fig.show()