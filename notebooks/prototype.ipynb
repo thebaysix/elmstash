{
 "cells": [
  {
   "cell_type": "code",
   "execution_count": 9,
   "id": "7f8fa31f",
   "metadata": {},
   "outputs": [],
   "source": [
    "%load_ext autoreload\n",
    "%autoreload 2\n"
   ]
  },
  {
   "cell_type": "code",
   "execution_count": 1,
   "id": "15745fcf",
   "metadata": {},
   "outputs": [
    {
     "name": "stdout",
     "output_type": "stream",
     "text": [
      "Response:\n",
      "First, I would take a thorough history of the headache, including onset, duration, intensity, location, character (e.g., throbbing, sharp), associated symptoms (e.g., nausea, visual changes, fever), and any triggers or relieving factors. I would also ask about past medical history, medications, recent trauma, and red flag symptoms like sudden onset ('thunderclap' headache), neurological deficits, or altered consciousness. Then I would perform a focused physical and neurological exam. Based on findings, I might consider ordering imaging (like a CT or MRI) or labs to rule out serious causes such as hemorrhage, infection, or increased intracranial pressure.\n",
      "\n",
      "Entropy: 4.3900\n"
     ]
    }
   ],
   "source": [
    "import sys\n",
    "import uuid\n",
    "from pathlib import Path\n",
    "\n",
    "# Add 'src' to sys.path so Python can find your modules\n",
    "sys.path.append(str(Path.cwd().parent / \"src\"))\n",
    "\n",
    "from observer.logging.logger import init_db, log_interaction\n",
    "from observer.agent.model_interface import query_model\n",
    "from observer.metrics.entropy import calc_entropy\n",
    "\n",
    "# Create a new session ID\n",
    "session_id = str(uuid.uuid4())\n",
    "\n",
    "# Initialize the SQLite database\n",
    "conn = init_db()\n",
    "\n",
    "# Step counter\n",
    "step = 1\n",
    "\n",
    "# Your test prompt\n",
    "input_str = \"A patient arrives complaining of a headache. What do you do?\"\n",
    "\n",
    "# Call the model\n",
    "# output_str = query_model(input_str)\n",
    "output_str = \"First, I would take a thorough history of the headache, including onset, duration, intensity, location, character (e.g., throbbing, sharp), associated symptoms (e.g., nausea, visual changes, fever), and any triggers or relieving factors. I would also ask about past medical history, medications, recent trauma, and red flag symptoms like sudden onset ('thunderclap' headache), neurological deficits, or altered consciousness. Then I would perform a focused physical and neurological exam. Based on findings, I might consider ordering imaging (like a CT or MRI) or labs to rule out serious causes such as hemorrhage, infection, or increased intracranial pressure.\"\n",
    "\n",
    "# Calculate entropy of model output\n",
    "entropy = calc_entropy(output_str)\n",
    "\n",
    "# Define the action (e.g. model name or strategy)\n",
    "action = \"openai/gpt-4o\"  # Replace with actual model if needed\n",
    "\n",
    "# Optional metadata\n",
    "metadata = {\n",
    "    \"entropy\": entropy,\n",
    "    \"tokens\": len(output_str.split())\n",
    "}\n",
    "\n",
    "# Log to SQLite\n",
    "log_interaction(\n",
    "    conn=conn,\n",
    "    session_id=session_id,\n",
    "    step=step,\n",
    "    input_str=input_str,\n",
    "    action=action,\n",
    "    output_str=output_str,\n",
    "    metadata=metadata\n",
    ")\n",
    "\n",
    "# Print for immediate feedback\n",
    "print(f\"Response:\\n{output_str}\\n\")\n",
    "print(f\"Entropy: {entropy:.4f}\")\n"
   ]
  }
 ],
 "metadata": {
  "kernelspec": {
   "display_name": "Python (elmstash)",
   "language": "python",
   "name": "elmstash"
  },
  "language_info": {
   "codemirror_mode": {
    "name": "ipython",
    "version": 3
   },
   "file_extension": ".py",
   "mimetype": "text/x-python",
   "name": "python",
   "nbconvert_exporter": "python",
   "pygments_lexer": "ipython3",
   "version": "3.12.3"
  }
 },
 "nbformat": 4,
 "nbformat_minor": 5
}
